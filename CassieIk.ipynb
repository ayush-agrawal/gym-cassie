{
 "cells": [
  {
   "cell_type": "code",
   "execution_count": 1,
   "metadata": {},
   "outputs": [],
   "source": [
    "from cassie import CassieEnv\n",
    "import numpy as np\n",
    "\n",
    "import time\n",
    "\n",
    "env = CassieEnv(\"walking\")\n",
    "\n",
    "qpos = np.copy(env.sim.qpos())\n",
    "\n",
    "jpos = qpos[env.pos_idx]\n",
    "\n",
    "fbpos = qpos[0:7]\n",
    "\n"
   ]
  },
  {
   "cell_type": "code",
   "execution_count": null,
   "metadata": {},
   "outputs": [
    {
     "name": "stdout",
     "output_type": "stream",
     "text": [
      "0.9784830934748516\n",
      "0.9672546005335126\n",
      "0.9534307705210315\n",
      "0.9372402537563077\n",
      "0.918723825652897\n",
      "0.8979281473508238\n",
      "0.8749055553625551\n",
      "0.8497138125019486\n",
      "0.822415816536509\n",
      "0.774227673678279\n",
      "0.7414316061484892\n",
      "0.7070471962303098\n",
      "0.671179582932309\n",
      "0.6339539366397721\n"
     ]
    }
   ],
   "source": [
    "# Joint limits converted to radians from XML file\n",
    "\n",
    "ROLL_LOW   = -0.26\n",
    "ROLL_HIGH  =  0.39\n",
    "\n",
    "YAW_LOW    = -0.39\n",
    "YAW_HIGH   =  0.39\n",
    "\n",
    "PITCH_LOW  = -0.87\n",
    "PITCH_HIGH =  1.4\n",
    "\n",
    "KNEE_LOW   = -2.86\n",
    "KNEE_HIGH  = -0.64\n",
    "\n",
    "FOOT_LOW   = -2.44\n",
    "FOOT_HIGH  = -0.52\n",
    "\n",
    "DELTA      = 0.05 # resolution for IK data set\n",
    "\n",
    "while jpos[2] > PITCH_LOW and jpos[3] > KNEE_LOW:\n",
    "    qpos = np.copy(env.sim.qpos())\n",
    "    print(qpos[10])\n",
    "    \n",
    "    jpos[2] -= DELTA\n",
    "    jpos[7] -= DELTA\n",
    "    \n",
    "    jpos[3] -= DELTA\n",
    "    jpos[8] -= DELTA\n",
    "    \n",
    "    env.set_joint_pos(jpos, fbpos)\n",
    "    env.render()\n",
    "    \n",
    "    input(\"\")\n",
    "# jpos[2] = PITCH_LOW\n",
    "# jpos[3] = KNEE_LOW\n",
    "\n",
    "env.set_joint_pos(jpos, fbpos)\n",
    "env.render()\n",
    "\n",
    "input(\"\")\n",
    "\n",
    "pitch = PITCH_LOW\n",
    "while pitch < PITCH_HIGH:\n",
    "    pitch += DELTA\n",
    "    \n",
    "    knee = KNEE_LOW\n",
    "    while knee < KNEE_HIGH:\n",
    "            knee += DELTA\n",
    "\n",
    "            \n",
    "# while i > -2.44:# change knee angle\n",
    "#     jpos[4] = i\n",
    "#     jpos[9] = i\n",
    "\n",
    "#     i -= .1\n",
    "    \n",
    "#     fbpos = qpos[0:7]\n",
    "\n",
    "#     env.set_joint_pos(jpos, fbpos)\n",
    "        \n",
    "#     env.render()\n",
    "    \n",
    "#     print(jpos[3])\n",
    "    \n",
    "#     time.sleep(1/100)"
   ]
  },
  {
   "cell_type": "markdown",
   "metadata": {},
   "source": [
    "### "
   ]
  }
 ],
 "metadata": {
  "kernelspec": {
   "display_name": "Python 3",
   "language": "python",
   "name": "python3"
  },
  "language_info": {
   "codemirror_mode": {
    "name": "ipython",
    "version": 3
   },
   "file_extension": ".py",
   "mimetype": "text/x-python",
   "name": "python",
   "nbconvert_exporter": "python",
   "pygments_lexer": "ipython3",
   "version": "3.6.7"
  }
 },
 "nbformat": 4,
 "nbformat_minor": 2
}
