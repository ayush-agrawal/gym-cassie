{
 "cells": [
  {
   "cell_type": "code",
   "execution_count": 1,
   "metadata": {},
   "outputs": [],
   "source": [
    "import numpy as np\n",
    "from scipy.interpolate import CubicSpline\n",
    "\n",
    "def get_trajectory(peak, stride, phase, stance=0.15):\n",
    "    \"\"\"\n",
    "    Foot and center of mass trajectory generator\n",
    "\n",
    "    The center of mass trajectory is a line q(t) = (x(t), 0, z). \n",
    "\n",
    "    The foot trajectories are periodic 3 point cubic splines in z(t),\n",
    "    lines in x(t), and constant in y => q(t) = (x(t), y, z(t))\n",
    "\n",
    "    Left and right foot trajectories are offset in time by \"phase\" timesteps.\n",
    "    \"\"\"\n",
    "    # TODO: figure out formula for how com_vel relates to foot trajectories...\n",
    "    # is SLIP model necessary?\n",
    "    com_vel = 0.02 \n",
    "\n",
    "    t = np.arange(phase)\n",
    "\n",
    "    m = stride / phase\n",
    "\n",
    "    ts = np.array([0, phase / 2, phase - 1])\n",
    "    zs = np.array([0, peak, 0])\n",
    "    spline = CubicSpline(ts, zs)\n",
    "\n",
    "    x = m * t\n",
    "    z = spline(t)\n",
    "\n",
    "    # left foot steps first\n",
    "    x_l = np.concatenate((x, np.ones(phase) * x[-1]))\n",
    "    y_l = np.ones(phase * 2) * -stance\n",
    "    z_l = np.concatenate((z, np.zeros(phase)))\n",
    "\n",
    "    # then right foot\n",
    "    x_r = np.concatenate((np.ones(phase) * x[0] + stride / 2, x + stride / 2))\n",
    "    y_r = np.ones(phase * 2) * stance\n",
    "    z_r = np.concatenate((np.zeros(phase), z))\n",
    "\n",
    "    x_com = np.cumsum(np.ones(phase * 2) * com_vel)\n",
    "    y_com = np.zeros(phase * 2)\n",
    "    z_com = np.ones(phase * 2) * 1\n",
    "\n",
    "\n",
    "    return np.column_stack([x_l, y_l, z_l, \n",
    "                       x_r, y_r, z_r, \n",
    "                       x_com, y_com, z_com])\n",
    "\n"
   ]
  },
  {
   "cell_type": "code",
   "execution_count": 2,
   "metadata": {},
   "outputs": [],
   "source": [
    "traj = get_trajectory(0.2, 0.0, 14)"
   ]
  },
  {
   "cell_type": "code",
   "execution_count": 24,
   "metadata": {},
   "outputs": [
    {
     "data": {
      "text/plain": [
       "[<matplotlib.lines.Line2D at 0x7f605e456f60>]"
      ]
     },
     "execution_count": 24,
     "metadata": {},
     "output_type": "execute_result"
    },
    {
     "data": {
      "image/png": "[encoded data removed]",
      "text/plain": [
       "<Figure size 432x288 with 1 Axes>"
      ]
     },
     "metadata": {
      "needs_background": "light"
     },
     "output_type": "display_data"
    }
   ],
   "source": [
    "%matplotlib inline\n",
    "\n",
    "from matplotlib import pyplot as plt\n",
    "\n",
    "#plt.plot(traj[:, 8])\n",
    "plt.plot(traj[:, 2])\n",
    "plt.plot(traj[:, 5])"
   ]
  },
  {
   "cell_type": "code",
   "execution_count": 23,
   "metadata": {},
   "outputs": [
    {
     "name": "stdout",
     "output_type": "stream",
     "text": [
      "[0.15 0.15]\n"
     ]
    }
   ],
   "source": [
    "print(traj[0:6, 4][[0, 2]])"
   ]
  },
  {
   "cell_type": "code",
   "execution_count": null,
   "metadata": {},
   "outputs": [],
   "source": []
  }
 ],
 "metadata": {
  "kernelspec": {
   "display_name": "Python 3",
   "language": "python",
   "name": "python3"
  },
  "language_info": {
   "codemirror_mode": {
    "name": "ipython",
    "version": 3
   },
   "file_extension": ".py",
   "mimetype": "text/x-python",
   "name": "python",
   "nbconvert_exporter": "python",
   "pygments_lexer": "ipython3",
   "version": "3.6.7"
  }
 },
 "nbformat": 4,
 "nbformat_minor": 2
}
